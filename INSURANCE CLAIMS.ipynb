{
 "cells": [
  {
   "cell_type": "code",
   "execution_count": 11,
   "id": "d0b6c74a",
   "metadata": {},
   "outputs": [],
   "source": [
    "import pandas as pd\n",
    "import numpy as np\n",
    "from datetime import datetime as dt\n",
    "import matplotlib.pyplot as plt\n",
    "%matplotlib inline\n",
    "import warnings\n",
    "import seaborn as sns\n",
    "import scipy.stats as stats  \n",
    "\n",
    "warnings.filterwarnings(\"ignore\")"
   ]
  },
  {
   "cell_type": "markdown",
   "id": "ef1e20ca",
   "metadata": {},
   "source": [
    "# \n",
    " Importd claims_data.csv and cust_data.csv which is provided  and\n",
    "combined the two datasets appropriately to create a 360-degree view of\n",
    "the data. Used the same for the subsequent analysis."
   ]
  },
  {
   "cell_type": "code",
   "execution_count": 2,
   "id": "139ef6b7",
   "metadata": {},
   "outputs": [],
   "source": [
    "filepath = \"C:\\\\Users\\\\sudhi\\\\OneDrive\\\\Desktop\\\\Insurance Claims Case Study\\\\\"\n",
    "fileclaims = \"claims.csv\"\n",
    "filecust = \"cust_demographics.csv\""
   ]
  },
  {
   "cell_type": "code",
   "execution_count": 3,
   "id": "000a70e8",
   "metadata": {},
   "outputs": [],
   "source": [
    "claims = pd.read_csv(filepath + fileclaims)\n",
    "cust = pd.read_csv(filepath + filecust)"
   ]
  },
  {
   "cell_type": "code",
   "execution_count": 4,
   "id": "c799ec8f",
   "metadata": {},
   "outputs": [],
   "source": [
    "cc=pd.merge(left= claims,right= cust,left_on=claims['customer_id'],right_on=cust['CUST_ID'],how='inner')"
   ]
  },
  {
   "cell_type": "code",
   "execution_count": 5,
   "id": "bd9da449",
   "metadata": {},
   "outputs": [],
   "source": [
    "cc= cc.drop('key_0',axis=1)"
   ]
  },
  {
   "cell_type": "code",
   "execution_count": 6,
   "id": "b439dbe4",
   "metadata": {},
   "outputs": [],
   "source": [
    "cc= cc.drop('CUST_ID',axis=1)"
   ]
  },
  {
   "cell_type": "code",
   "execution_count": 7,
   "id": "ead029c4",
   "metadata": {},
   "outputs": [
    {
     "data": {
      "text/html": [
       "<div>\n",
       "<style scoped>\n",
       "    .dataframe tbody tr th:only-of-type {\n",
       "        vertical-align: middle;\n",
       "    }\n",
       "\n",
       "    .dataframe tbody tr th {\n",
       "        vertical-align: top;\n",
       "    }\n",
       "\n",
       "    .dataframe thead th {\n",
       "        text-align: right;\n",
       "    }\n",
       "</style>\n",
       "<table border=\"1\" class=\"dataframe\">\n",
       "  <thead>\n",
       "    <tr style=\"text-align: right;\">\n",
       "      <th></th>\n",
       "      <th>claim_id</th>\n",
       "      <th>customer_id</th>\n",
       "      <th>incident_cause</th>\n",
       "      <th>claim_date</th>\n",
       "      <th>claim_area</th>\n",
       "      <th>police_report</th>\n",
       "      <th>claim_type</th>\n",
       "      <th>claim_amount</th>\n",
       "      <th>total_policy_claims</th>\n",
       "      <th>fraudulent</th>\n",
       "      <th>gender</th>\n",
       "      <th>DateOfBirth</th>\n",
       "      <th>State</th>\n",
       "      <th>Contact</th>\n",
       "      <th>Segment</th>\n",
       "    </tr>\n",
       "  </thead>\n",
       "  <tbody>\n",
       "    <tr>\n",
       "      <th>0</th>\n",
       "      <td>54004764</td>\n",
       "      <td>21868593</td>\n",
       "      <td>Driver error</td>\n",
       "      <td>11/27/2017</td>\n",
       "      <td>Auto</td>\n",
       "      <td>No</td>\n",
       "      <td>Material only</td>\n",
       "      <td>$2980</td>\n",
       "      <td>1.0</td>\n",
       "      <td>No</td>\n",
       "      <td>Female</td>\n",
       "      <td>12-Jan-79</td>\n",
       "      <td>VT</td>\n",
       "      <td>789-916-8172</td>\n",
       "      <td>Platinum</td>\n",
       "    </tr>\n",
       "    <tr>\n",
       "      <th>1</th>\n",
       "      <td>33985796</td>\n",
       "      <td>75740424</td>\n",
       "      <td>Crime</td>\n",
       "      <td>10/03/2018</td>\n",
       "      <td>Home</td>\n",
       "      <td>Unknown</td>\n",
       "      <td>Material only</td>\n",
       "      <td>$2980</td>\n",
       "      <td>3.0</td>\n",
       "      <td>No</td>\n",
       "      <td>Female</td>\n",
       "      <td>13-Jan-70</td>\n",
       "      <td>ME</td>\n",
       "      <td>265-543-1264</td>\n",
       "      <td>Silver</td>\n",
       "    </tr>\n",
       "  </tbody>\n",
       "</table>\n",
       "</div>"
      ],
      "text/plain": [
       "   claim_id  customer_id incident_cause  claim_date claim_area police_report  \\\n",
       "0  54004764     21868593   Driver error  11/27/2017       Auto            No   \n",
       "1  33985796     75740424          Crime  10/03/2018       Home       Unknown   \n",
       "\n",
       "      claim_type claim_amount  total_policy_claims fraudulent  gender  \\\n",
       "0  Material only        $2980                  1.0         No  Female   \n",
       "1  Material only        $2980                  3.0         No  Female   \n",
       "\n",
       "  DateOfBirth State       Contact   Segment  \n",
       "0   12-Jan-79    VT  789-916-8172  Platinum  \n",
       "1   13-Jan-70    ME  265-543-1264    Silver  "
      ]
     },
     "execution_count": 7,
     "metadata": {},
     "output_type": "execute_result"
    }
   ],
   "source": [
    "cc.head(2)"
   ]
  },
  {
   "cell_type": "markdown",
   "id": "b6c9aee9",
   "metadata": {},
   "source": [
    "#\n",
    " Performed a data audit for the datatypes and found  if there are any\n",
    "mismatch within the current datatypes of the columns and their\n",
    "business significance."
   ]
  },
  {
   "cell_type": "code",
   "execution_count": 8,
   "id": "784f0c4c",
   "metadata": {},
   "outputs": [
    {
     "data": {
      "text/plain": [
       "claim_id                 int64\n",
       "customer_id              int64\n",
       "incident_cause          object\n",
       "claim_date              object\n",
       "claim_area              object\n",
       "police_report           object\n",
       "claim_type              object\n",
       "claim_amount            object\n",
       "total_policy_claims    float64\n",
       "fraudulent              object\n",
       "gender                  object\n",
       "DateOfBirth             object\n",
       "State                   object\n",
       "Contact                 object\n",
       "Segment                 object\n",
       "dtype: object"
      ]
     },
     "execution_count": 8,
     "metadata": {},
     "output_type": "execute_result"
    }
   ],
   "source": [
    "cc.dtypes"
   ]
  },
  {
   "cell_type": "code",
   "execution_count": 9,
   "id": "7c84357b",
   "metadata": {},
   "outputs": [],
   "source": [
    "cc['claim_date']=pd.to_datetime(cc['claim_date'])"
   ]
  },
  {
   "cell_type": "code",
   "execution_count": 10,
   "id": "c0f02688",
   "metadata": {},
   "outputs": [],
   "source": [
    "cc['DateOfBirth'] = pd.to_datetime(cc['DateOfBirth'])"
   ]
  },
  {
   "cell_type": "markdown",
   "id": "7568bab0",
   "metadata": {},
   "source": [
    "# \n",
    "Converted the column claim_amount to numeric. Used the appropriate\n",
    "modules/attributes to remove the $ sign."
   ]
  },
  {
   "cell_type": "code",
   "execution_count": 11,
   "id": "ef712396",
   "metadata": {},
   "outputs": [],
   "source": [
    "def modify(var):\n",
    "        if str(var).startswith('$'):\n",
    "            var = var[1:]\n",
    "            return var\n",
    "    "
   ]
  },
  {
   "cell_type": "code",
   "execution_count": 12,
   "id": "bfb46551",
   "metadata": {},
   "outputs": [],
   "source": [
    "cc['claim_amount']=cc['claim_amount'].apply(modify)"
   ]
  },
  {
   "cell_type": "code",
   "execution_count": 13,
   "id": "5394ce54",
   "metadata": {},
   "outputs": [],
   "source": [
    "cc['claim_amount'] = pd.to_numeric(cc['claim_amount'])"
   ]
  },
  {
   "cell_type": "markdown",
   "id": "b614563f",
   "metadata": {},
   "source": [
    "# \n",
    " Of all the injury claims, some of them had gone unreported with the\n",
    "police. Created an alert flag (1,0) for all such claims."
   ]
  },
  {
   "cell_type": "code",
   "execution_count": 14,
   "id": "412709a1",
   "metadata": {},
   "outputs": [],
   "source": [
    "def alert(var):\n",
    "    if var['police_report'] == 'Yes':\n",
    "        return 0\n",
    "    else :\n",
    "        return 1"
   ]
  },
  {
   "cell_type": "code",
   "execution_count": 15,
   "id": "6f04986a",
   "metadata": {},
   "outputs": [],
   "source": [
    "cc['alert'] = cc.apply(alert,axis=1)"
   ]
  },
  {
   "cell_type": "markdown",
   "id": "d39e2c06",
   "metadata": {},
   "source": [
    "# \n",
    " One customer can claim for insurance more than once and in each claim,\n",
    "multiple categories of claims can be involved. However, customer ID\n",
    "should remain unique.\n",
    "Retained the most recent observation and deleted any duplicated records in\n",
    "the data based on the customer ID column."
   ]
  },
  {
   "cell_type": "code",
   "execution_count": 16,
   "id": "6af9a0f5",
   "metadata": {},
   "outputs": [],
   "source": [
    "cc.sort_values(by='claim_date', ascending=False, inplace=True)"
   ]
  },
  {
   "cell_type": "code",
   "execution_count": 17,
   "id": "fbf5bf62",
   "metadata": {},
   "outputs": [],
   "source": [
    "cc.drop_duplicates(subset='customer_id', keep='first', inplace=True)"
   ]
  },
  {
   "cell_type": "code",
   "execution_count": 18,
   "id": "dbc4bb8f",
   "metadata": {},
   "outputs": [],
   "source": [
    "cc.reset_index(drop= True, inplace = True)"
   ]
  },
  {
   "cell_type": "markdown",
   "id": "f940e3cf",
   "metadata": {},
   "source": [
    "# \n",
    "Checking for missing values and imputed the missing values with an\n",
    "appropriate value. (mean for continuous and mode for categorical)"
   ]
  },
  {
   "cell_type": "code",
   "execution_count": 19,
   "id": "b3e20594",
   "metadata": {},
   "outputs": [],
   "source": [
    "cc['claim_amount'].fillna(cc['claim_amount'].mean(),inplace = True)"
   ]
  },
  {
   "cell_type": "code",
   "execution_count": 20,
   "id": "30158007",
   "metadata": {},
   "outputs": [],
   "source": [
    "cc['claim_amount']=round(cc['claim_amount'],2)"
   ]
  },
  {
   "cell_type": "code",
   "execution_count": 21,
   "id": "83c92174",
   "metadata": {},
   "outputs": [],
   "source": [
    "cc['total_policy_claims'].fillna(cc['total_policy_claims'].mean(),inplace= True)"
   ]
  },
  {
   "cell_type": "code",
   "execution_count": 22,
   "id": "6c54538e",
   "metadata": {},
   "outputs": [
    {
     "data": {
      "text/plain": [
       "claim_id               0\n",
       "customer_id            0\n",
       "incident_cause         0\n",
       "claim_date             0\n",
       "claim_area             0\n",
       "police_report          0\n",
       "claim_type             0\n",
       "claim_amount           0\n",
       "total_policy_claims    0\n",
       "fraudulent             0\n",
       "gender                 0\n",
       "DateOfBirth            0\n",
       "State                  0\n",
       "Contact                0\n",
       "Segment                0\n",
       "alert                  0\n",
       "dtype: int64"
      ]
     },
     "execution_count": 22,
     "metadata": {},
     "output_type": "execute_result"
    }
   ],
   "source": [
    "cc.isnull().sum()"
   ]
  },
  {
   "cell_type": "markdown",
   "id": "c6012c7b",
   "metadata": {},
   "source": [
    "# \n",
    " Calculated the age of customers in years. Based on the age, categorize the\n",
    "customers according to the below criteria\n",
    "Children < 18\n",
    "Youth 18-30\n",
    "Adult 30-60\n",
    "Senior > 60"
   ]
  },
  {
   "cell_type": "code",
   "execution_count": 23,
   "id": "9b46af4f",
   "metadata": {},
   "outputs": [],
   "source": [
    "age = ((cc['claim_date'].dt.year-cc['DateOfBirth'].dt.year))"
   ]
  },
  {
   "cell_type": "code",
   "execution_count": 24,
   "id": "bb8d30db",
   "metadata": {},
   "outputs": [],
   "source": [
    "cc['Age']=age"
   ]
  },
  {
   "cell_type": "code",
   "execution_count": 25,
   "id": "d2fd7e60",
   "metadata": {},
   "outputs": [],
   "source": [
    "def cat(var):\n",
    "    if var < 18 :\n",
    "        return \"Children\"\n",
    "    elif (var > 18) & (var <30):\n",
    "        return \"Youth\"\n",
    "    elif (var > 30) & (var <60):\n",
    "        return \"Adult\"\n",
    "    elif (var > 60):\n",
    "        return \"Senior\""
   ]
  },
  {
   "cell_type": "code",
   "execution_count": 26,
   "id": "f58ecb44",
   "metadata": {},
   "outputs": [],
   "source": [
    "cc['Age_cat']=cc['Age'].apply(cat)"
   ]
  },
  {
   "cell_type": "markdown",
   "id": "11953755",
   "metadata": {},
   "source": [
    "# \n",
    "the average amount claimed by the customers from various\n",
    "segments"
   ]
  },
  {
   "cell_type": "code",
   "execution_count": 27,
   "id": "320c86d9",
   "metadata": {},
   "outputs": [
    {
     "data": {
      "text/html": [
       "<div>\n",
       "<style scoped>\n",
       "    .dataframe tbody tr th:only-of-type {\n",
       "        vertical-align: middle;\n",
       "    }\n",
       "\n",
       "    .dataframe tbody tr th {\n",
       "        vertical-align: top;\n",
       "    }\n",
       "\n",
       "    .dataframe thead th {\n",
       "        text-align: right;\n",
       "    }\n",
       "</style>\n",
       "<table border=\"1\" class=\"dataframe\">\n",
       "  <thead>\n",
       "    <tr style=\"text-align: right;\">\n",
       "      <th></th>\n",
       "      <th>Avg_Amount</th>\n",
       "    </tr>\n",
       "    <tr>\n",
       "      <th>Segment</th>\n",
       "      <th></th>\n",
       "    </tr>\n",
       "  </thead>\n",
       "  <tbody>\n",
       "    <tr>\n",
       "      <th>Gold</th>\n",
       "      <td>12846.400431</td>\n",
       "    </tr>\n",
       "    <tr>\n",
       "      <th>Platinum</th>\n",
       "      <td>12371.654986</td>\n",
       "    </tr>\n",
       "    <tr>\n",
       "      <th>Silver</th>\n",
       "      <td>12267.859653</td>\n",
       "    </tr>\n",
       "  </tbody>\n",
       "</table>\n",
       "</div>"
      ],
      "text/plain": [
       "            Avg_Amount\n",
       "Segment               \n",
       "Gold      12846.400431\n",
       "Platinum  12371.654986\n",
       "Silver    12267.859653"
      ]
     },
     "execution_count": 27,
     "metadata": {},
     "output_type": "execute_result"
    }
   ],
   "source": [
    "cc.groupby(by=['Segment']).agg(Avg_Amount=('claim_amount',np.mean))"
   ]
  },
  {
   "cell_type": "markdown",
   "id": "edac029b",
   "metadata": {},
   "source": [
    "# \n",
    " the total claim amount based on incident cause for all the claims\n",
    "that have been done at least 20 days prior to 1st of October, 2018.(Selected this date randomly)"
   ]
  },
  {
   "cell_type": "code",
   "execution_count": 28,
   "id": "d7c555e8",
   "metadata": {},
   "outputs": [],
   "source": [
    "date = \"2018-10-1\""
   ]
  },
  {
   "cell_type": "code",
   "execution_count": 29,
   "id": "d365bf07",
   "metadata": {},
   "outputs": [],
   "source": [
    "date=dt.strptime(date, '%Y-%m-%d')"
   ]
  },
  {
   "cell_type": "code",
   "execution_count": 30,
   "id": "704670c5",
   "metadata": {},
   "outputs": [],
   "source": [
    "sort_date=date - pd.Timedelta(days=20)"
   ]
  },
  {
   "cell_type": "code",
   "execution_count": 31,
   "id": "ef93d847",
   "metadata": {},
   "outputs": [],
   "source": [
    "q9=cc.loc[(cc['claim_date']<sort_date)]"
   ]
  },
  {
   "cell_type": "code",
   "execution_count": 32,
   "id": "9c800e2d",
   "metadata": {},
   "outputs": [
    {
     "data": {
      "text/html": [
       "<div>\n",
       "<style scoped>\n",
       "    .dataframe tbody tr th:only-of-type {\n",
       "        vertical-align: middle;\n",
       "    }\n",
       "\n",
       "    .dataframe tbody tr th {\n",
       "        vertical-align: top;\n",
       "    }\n",
       "\n",
       "    .dataframe thead th {\n",
       "        text-align: right;\n",
       "    }\n",
       "</style>\n",
       "<table border=\"1\" class=\"dataframe\">\n",
       "  <thead>\n",
       "    <tr style=\"text-align: right;\">\n",
       "      <th></th>\n",
       "      <th>incident_cause</th>\n",
       "      <th>Total_claim_amount</th>\n",
       "    </tr>\n",
       "  </thead>\n",
       "  <tbody>\n",
       "    <tr>\n",
       "      <th>0</th>\n",
       "      <td>Crime</td>\n",
       "      <td>721938.65</td>\n",
       "    </tr>\n",
       "    <tr>\n",
       "      <th>1</th>\n",
       "      <td>Driver error</td>\n",
       "      <td>3315850.76</td>\n",
       "    </tr>\n",
       "    <tr>\n",
       "      <th>2</th>\n",
       "      <td>Natural causes</td>\n",
       "      <td>1312987.07</td>\n",
       "    </tr>\n",
       "    <tr>\n",
       "      <th>3</th>\n",
       "      <td>Other causes</td>\n",
       "      <td>3723151.87</td>\n",
       "    </tr>\n",
       "    <tr>\n",
       "      <th>4</th>\n",
       "      <td>Other driver error</td>\n",
       "      <td>3277536.49</td>\n",
       "    </tr>\n",
       "  </tbody>\n",
       "</table>\n",
       "</div>"
      ],
      "text/plain": [
       "       incident_cause  Total_claim_amount\n",
       "0               Crime           721938.65\n",
       "1        Driver error          3315850.76\n",
       "2      Natural causes          1312987.07\n",
       "3        Other causes          3723151.87\n",
       "4  Other driver error          3277536.49"
      ]
     },
     "execution_count": 32,
     "metadata": {},
     "output_type": "execute_result"
    }
   ],
   "source": [
    "q9.groupby(by=['incident_cause']).agg(Total_claim_amount=('claim_amount',sum)).reset_index()"
   ]
  },
  {
   "cell_type": "markdown",
   "id": "36f77b77",
   "metadata": {},
   "source": [
    "#\n",
    " number of adults from TX, DE and AK claimed insurance for driver\n",
    "related issues and causes?"
   ]
  },
  {
   "cell_type": "code",
   "execution_count": 33,
   "id": "fc845e32",
   "metadata": {},
   "outputs": [],
   "source": [
    "q10=cc.loc[(cc['State'].isin(['TX','DE','AK']))]"
   ]
  },
  {
   "cell_type": "code",
   "execution_count": 34,
   "id": "a0046bb1",
   "metadata": {},
   "outputs": [],
   "source": [
    "q10=q10.loc[(q10['incident_cause']=='Driver error')]"
   ]
  },
  {
   "cell_type": "code",
   "execution_count": 35,
   "id": "129444c0",
   "metadata": {},
   "outputs": [
    {
     "name": "stdout",
     "output_type": "stream",
     "text": [
      "22 adults from TX, DE and AK claimed insurance for driver related issues and causes\n"
     ]
    }
   ],
   "source": [
    "print(len(q10),\"adults from TX, DE and AK claimed insurance for driver related issues and causes\")"
   ]
  },
  {
   "cell_type": "markdown",
   "id": "cdba1791",
   "metadata": {},
   "source": [
    "# \n",
    " pie chart between the aggregated value of claim amount based\n",
    "on gender and segment."
   ]
  },
  {
   "cell_type": "code",
   "execution_count": 36,
   "id": "15ce62c5",
   "metadata": {},
   "outputs": [
    {
     "data": {
      "image/png": "[encoded data removed]",
      "text/plain": [
       "<Figure size 640x480 with 1 Axes>"
      ]
     },
     "metadata": {},
     "output_type": "display_data"
    }
   ],
   "source": [
    "cc.groupby(by=['gender','Segment']).agg(Claim_Amount=('claim_amount',sum)).plot(kind='pie',subplots=True,autopct='%1.1f%%')\n",
    "plt.figsize=((20,40))\n",
    "plt.legend( title=\"Categories\", loc=\"center left\", bbox_to_anchor=(1.2,0.2))\n",
    "plt.ylabel(\"\")\n",
    "plt.title(\"Value of claim amount based on gender and segment\",c='r')\n",
    "plt.show()\n"
   ]
  },
  {
   "cell_type": "markdown",
   "id": "6830c4e2",
   "metadata": {},
   "source": [
    "#\n",
    " Among males and females, found which gender had claimed the most for any\n",
    "type of driver related issues? "
   ]
  },
  {
   "cell_type": "code",
   "execution_count": 37,
   "id": "8aaaa52f",
   "metadata": {},
   "outputs": [
    {
     "data": {
      "image/png": "[encoded data removed]",
      "text/plain": [
       "<Figure size 640x480 with 1 Axes>"
      ]
     },
     "metadata": {},
     "output_type": "display_data"
    }
   ],
   "source": [
    "cc.loc[cc['incident_cause']=='Driver error'].groupby(by=['gender']).agg(no_of_claims=('gender',len)).plot(kind='bar')\n",
    "plt.title(\"Genderwise the most claims for any type of driver related issues\",c='r')\n",
    "plt.xticks(rotation=0)\n",
    "plt.xlabel(\"Gender\")\n",
    "plt.ylabel(\"Claim Amount\")\n",
    "plt.show()\n"
   ]
  },
  {
   "cell_type": "markdown",
   "id": "42cb189d",
   "metadata": {},
   "source": [
    "#\n",
    " age group that had the maximum fraudulent policy claims"
   ]
  },
  {
   "cell_type": "code",
   "execution_count": 38,
   "id": "9324a5da",
   "metadata": {},
   "outputs": [
    {
     "data": {
      "image/png": "[encoded data removed]",
      "text/plain": [
       "<Figure size 640x480 with 1 Axes>"
      ]
     },
     "metadata": {},
     "output_type": "display_data"
    }
   ],
   "source": [
    "cc.loc[(cc['fraudulent']=='Yes')].groupby(by=['Age_cat']).agg(no_of_claims=('gender',len)).plot(kind='pie',subplots=True,autopct='%1.1f%%')\n",
    "plt.ylabel(\"\")\n",
    "plt.title(\"Age group that had the maximum fraudulent policy claims\",c='r')\n",
    "plt.legend(title='Age Group',bbox_to_anchor=(1,1))\n",
    "plt.show()"
   ]
  },
  {
   "cell_type": "markdown",
   "id": "64e3e304",
   "metadata": {},
   "source": [
    "# \n",
    " Visualized the monthly trend of the total amount that has been claimed\n",
    "by the customers."
   ]
  },
  {
   "cell_type": "code",
   "execution_count": 39,
   "id": "d8c75294",
   "metadata": {},
   "outputs": [],
   "source": [
    "month_name=cc['claim_date'].dt.strftime('%B')"
   ]
  },
  {
   "cell_type": "code",
   "execution_count": 40,
   "id": "5888f779",
   "metadata": {},
   "outputs": [],
   "source": [
    "cc['Month']=month_name"
   ]
  },
  {
   "cell_type": "code",
   "execution_count": 41,
   "id": "47e3c52f",
   "metadata": {},
   "outputs": [],
   "source": [
    "q14=cc.groupby(by=['Month']).agg(Total_Amount=('claim_amount',sum))"
   ]
  },
  {
   "cell_type": "code",
   "execution_count": 42,
   "id": "54d32faf",
   "metadata": {},
   "outputs": [],
   "source": [
    "month_order = ['January', 'February', 'March', 'April', 'May', 'June', 'July', 'August', 'September', 'October', 'November', 'December']"
   ]
  },
  {
   "cell_type": "code",
   "execution_count": 43,
   "id": "34e15663",
   "metadata": {},
   "outputs": [],
   "source": [
    "q14=q14.loc[month_order]"
   ]
  },
  {
   "cell_type": "code",
   "execution_count": 44,
   "id": "0de6e207",
   "metadata": {},
   "outputs": [
    {
     "data": {
      "image/png": "[encoded data removed]",
      "text/plain": [
       "<Figure size 640x480 with 1 Axes>"
      ]
     },
     "metadata": {},
     "output_type": "display_data"
    }
   ],
   "source": [
    "fig, ax = plt.subplots()\n",
    "ax.plot(q14.index,q14.Total_Amount, label='Line Chart')\n",
    "plt.title(\"Monthly trend of the total amount \",c='r')\n",
    "plt.xlabel(\"Month\")\n",
    "plt.ylabel(\"Total Amount\")\n",
    "plt.xticks(rotation=45)\n",
    "plt.show()"
   ]
  },
  {
   "cell_type": "markdown",
   "id": "d9952689",
   "metadata": {},
   "source": [
    "#\n",
    "the average claim amount for gender and age categories and\n",
    "suitably represented the above using a facetted bar chart, one facet that\n",
    "represented fraudulent claims and the other for non-fraudulent claims."
   ]
  },
  {
   "cell_type": "code",
   "execution_count": 45,
   "id": "92484ff0",
   "metadata": {},
   "outputs": [],
   "source": [
    "q15=cc.groupby(by=['gender','Age_cat','fraudulent']).agg(Claim_amount=('claim_amount',sum)).reset_index()"
   ]
  },
  {
   "cell_type": "code",
   "execution_count": 46,
   "id": "57d43428",
   "metadata": {},
   "outputs": [
    {
     "data": {
      "image/png": "[encoded data removed]",
      "text/plain": [
       "<Figure size 2243.49x600 with 3 Axes>"
      ]
     },
     "metadata": {},
     "output_type": "display_data"
    },
    {
     "data": {
      "text/plain": [
       "<Figure size 2000x1600 with 0 Axes>"
      ]
     },
     "metadata": {},
     "output_type": "display_data"
    }
   ],
   "source": [
    "plt.figsize=((10,10))\n",
    "g = sns.catplot(\n",
    "    x='gender',\n",
    "    y='Claim_amount',\n",
    "    hue='fraudulent',\n",
    "    col='Age_cat',\n",
    "    data=q15,\n",
    "    kind='bar',\n",
    "    height=6,\n",
    "    aspect=1.2)\n",
    "g.set_axis_labels(\"Gender\", \"Average Claim Amount\",fontsize= 16)\n",
    "g.set_titles(\"Age Category: {col_name}\",fontsize=18)\n",
    "g.set_xticklabels(fontsize= 10)\n",
    "plt.figure(figsize=(20, 16)) \n",
    "plt.show()"
   ]
  },
  {
   "cell_type": "markdown",
   "id": "c93f4291",
   "metadata": {},
   "source": [
    "# \n",
    "Found if there any similarity in the amount claimed by males and females?"
   ]
  },
  {
   "cell_type": "code",
   "execution_count": 47,
   "id": "6d73ef4c",
   "metadata": {},
   "outputs": [],
   "source": [
    "q16=cc.groupby(by=['gender']).agg(Amount=('claim_amount',sum)).reset_index()"
   ]
  },
  {
   "cell_type": "code",
   "execution_count": 48,
   "id": "2a7977f3",
   "metadata": {},
   "outputs": [],
   "source": [
    "var = \"claim_amount\"\n",
    "male = cc.loc[cc.gender==\"Male\",var]\n",
    "female = cc.loc[cc.gender == \"Female\",var]"
   ]
  },
  {
   "cell_type": "code",
   "execution_count": 49,
   "id": "ca36a982",
   "metadata": {},
   "outputs": [
    {
     "name": "stdout",
     "output_type": "stream",
     "text": [
      "Claim amount mean for male: 12884.845335753174\n",
      "Claim amount mean for female: 12101.160664136622\n"
     ]
    }
   ],
   "source": [
    "print('Claim amount mean for male:', male.mean())\n",
    "print('Claim amount mean for female:',female.mean() )"
   ]
  },
  {
   "cell_type": "code",
   "execution_count": 50,
   "id": "30eb6695",
   "metadata": {},
   "outputs": [],
   "source": [
    "# Defining the hypothesis\n",
    "# H0 : male and female amount claims are similar\n",
    "# Ha: male and female claims are not similar\n",
    "# CI: 99%, p/alpha: 0.01"
   ]
  },
  {
   "cell_type": "code",
   "execution_count": 51,
   "id": "79c63c84",
   "metadata": {},
   "outputs": [],
   "source": [
    "# SInce these are independent numerical columns and std deviation is not provided, we will perform independent t test"
   ]
  },
  {
   "cell_type": "code",
   "execution_count": 52,
   "id": "211696e5",
   "metadata": {},
   "outputs": [
    {
     "data": {
      "text/plain": [
       "Ttest_indResult(statistic=0.962509388314579, pvalue=0.3360100394474975)"
      ]
     },
     "execution_count": 52,
     "metadata": {},
     "output_type": "execute_result"
    }
   ],
   "source": [
    "stats.ttest_ind( male, female )"
   ]
  },
  {
   "cell_type": "code",
   "execution_count": 53,
   "id": "fb19143c",
   "metadata": {},
   "outputs": [],
   "source": [
    "#Conclusion: Since p value is more for H0 becomeing true is more Therefore\n",
    "# We fail to reject null hypothesis and claim that male and female claims are similar"
   ]
  },
  {
   "cell_type": "markdown",
   "id": "e1aaa29c",
   "metadata": {},
   "source": [
    "#\n",
    "Found if there any relationship between age category and segment?"
   ]
  },
  {
   "cell_type": "code",
   "execution_count": 54,
   "id": "365969f1",
   "metadata": {},
   "outputs": [],
   "source": [
    "#Since gender and segment both are categorical columns we shall perform a chisquare hypothesis test."
   ]
  },
  {
   "cell_type": "code",
   "execution_count": 55,
   "id": "e9dbd9e1",
   "metadata": {},
   "outputs": [
    {
     "data": {
      "text/html": [
       "<div>\n",
       "<style scoped>\n",
       "    .dataframe tbody tr th:only-of-type {\n",
       "        vertical-align: middle;\n",
       "    }\n",
       "\n",
       "    .dataframe tbody tr th {\n",
       "        vertical-align: top;\n",
       "    }\n",
       "\n",
       "    .dataframe thead th {\n",
       "        text-align: right;\n",
       "    }\n",
       "</style>\n",
       "<table border=\"1\" class=\"dataframe\">\n",
       "  <thead>\n",
       "    <tr style=\"text-align: right;\">\n",
       "      <th>Segment</th>\n",
       "      <th>Gold</th>\n",
       "      <th>Platinum</th>\n",
       "      <th>Silver</th>\n",
       "    </tr>\n",
       "    <tr>\n",
       "      <th>gender</th>\n",
       "      <th></th>\n",
       "      <th></th>\n",
       "      <th></th>\n",
       "    </tr>\n",
       "  </thead>\n",
       "  <tbody>\n",
       "    <tr>\n",
       "      <th>Female</th>\n",
       "      <td>171</td>\n",
       "      <td>193</td>\n",
       "      <td>163</td>\n",
       "    </tr>\n",
       "    <tr>\n",
       "      <th>Male</th>\n",
       "      <td>200</td>\n",
       "      <td>168</td>\n",
       "      <td>183</td>\n",
       "    </tr>\n",
       "  </tbody>\n",
       "</table>\n",
       "</div>"
      ],
      "text/plain": [
       "Segment  Gold  Platinum  Silver\n",
       "gender                         \n",
       "Female    171       193     163\n",
       "Male      200       168     183"
      ]
     },
     "execution_count": 55,
     "metadata": {},
     "output_type": "execute_result"
    }
   ],
   "source": [
    "obs_freq = pd.crosstab( cc.gender, cc.Segment )\n",
    "obs_freq"
   ]
  },
  {
   "cell_type": "code",
   "execution_count": 56,
   "id": "dd4a8629",
   "metadata": {},
   "outputs": [],
   "source": [
    "# Defining the Hypothesis\n",
    "# Ho: No relationship b/w gender and segment\n",
    "# Ha: Association b/w region and segment\n",
    "# CI: 99%, p: 0.01\n"
   ]
  },
  {
   "cell_type": "code",
   "execution_count": 57,
   "id": "262d7ab0",
   "metadata": {},
   "outputs": [
    {
     "data": {
      "text/plain": [
       "Chi2ContingencyResult(statistic=4.622185882769289, pvalue=0.09915282409315045, dof=2, expected_freq=array([[181.37012987, 176.48144712, 169.14842301],\n",
       "       [189.62987013, 184.51855288, 176.85157699]]))"
      ]
     },
     "execution_count": 57,
     "metadata": {},
     "output_type": "execute_result"
    }
   ],
   "source": [
    "stats.chi2_contingency( obs_freq )"
   ]
  },
  {
   "cell_type": "code",
   "execution_count": 58,
   "id": "09316bc9",
   "metadata": {},
   "outputs": [],
   "source": [
    "# Conclusion: Since p value for H0 becoming true is more Therefore\n",
    "# we fail to reject null hypothesis and claims no relationship b/w gender and segment\n"
   ]
  },
  {
   "cell_type": "markdown",
   "id": "e08767d1",
   "metadata": {},
   "source": [
    "# \n",
    "The current year has shown a significant rise in claim amounts as\n",
    "compared to 2016-17 fiscal average which was $10,000."
   ]
  },
  {
   "cell_type": "code",
   "execution_count": 59,
   "id": "c484513c",
   "metadata": {},
   "outputs": [],
   "source": [
    "mean_sample=cc['claim_amount'].mean()\n",
    "pop_mean = 10000\n",
    "sample = cc['claim_amount']"
   ]
  },
  {
   "cell_type": "code",
   "execution_count": 60,
   "id": "6bfad332",
   "metadata": {},
   "outputs": [
    {
     "name": "stdout",
     "output_type": "stream",
     "text": [
      "Mean of last year claim amount: 10000\n",
      "Mena of this year claim amount: 12501.72676252319\n"
     ]
    }
   ],
   "source": [
    "print(\"Mean of last year claim amount:\",pop_mean)\n",
    "print(\"Mena of this year claim amount:\",mean_sample)"
   ]
  },
  {
   "cell_type": "code",
   "execution_count": 61,
   "id": "5567febb",
   "metadata": {},
   "outputs": [],
   "source": [
    "# Defining the hypothesis\n",
    "# H0 : No Significant rise in mean of claim amount\n",
    "# Ha: Significant rise in mean of claims amount\n",
    "# CI: 99%, p: 0.01"
   ]
  },
  {
   "cell_type": "code",
   "execution_count": 62,
   "id": "9ec656e4",
   "metadata": {},
   "outputs": [
    {
     "data": {
      "text/plain": [
       "TtestResult(statistic=6.146897698482048, pvalue=1.1110844570623794e-09, df=1077)"
      ]
     },
     "execution_count": 62,
     "metadata": {},
     "output_type": "execute_result"
    }
   ],
   "source": [
    "stats.ttest_1samp(a = sample, popmean = pop_mean)"
   ]
  },
  {
   "cell_type": "code",
   "execution_count": 63,
   "id": "4390655b",
   "metadata": {},
   "outputs": [],
   "source": [
    "#Conclusion: Since p value for H0 beacoming true is more Therefore \n",
    "# we fail to reject H0 and claim that there is no significant rise in claim amount"
   ]
  },
  {
   "cell_type": "markdown",
   "id": "d7dd51b5",
   "metadata": {},
   "source": [
    "# \n",
    "found if there any difference between age groups and insurance claims?"
   ]
  },
  {
   "cell_type": "code",
   "execution_count": 64,
   "id": "f7a16cb6",
   "metadata": {},
   "outputs": [],
   "source": [
    "var = 'claim_amount'\n",
    "s1 = cc.loc[ cc.Age_cat == \"Children\",var]\n",
    "s2 = cc.loc[ cc.Age_cat == \"Adult\",var]\n",
    "s3 = cc.loc[ cc.Age_cat == \"Senior\",var]"
   ]
  },
  {
   "cell_type": "code",
   "execution_count": 65,
   "id": "42e37db8",
   "metadata": {},
   "outputs": [
    {
     "name": "stdout",
     "output_type": "stream",
     "text": [
      "mean of s1:  11929.405227272726 | mean of s2:  13782.045145888593 | mean of s3:  nan\n"
     ]
    }
   ],
   "source": [
    "print( 'mean of s1: ', s1.mean(), '| mean of s2: ', s2.mean(), '| mean of s3: ', s3.mean() )"
   ]
  },
  {
   "cell_type": "code",
   "execution_count": 66,
   "id": "c68d466d",
   "metadata": {},
   "outputs": [
    {
     "data": {
      "text/plain": [
       "F_onewayResult(statistic=3.410935858919763, pvalue=0.06517190288708086)"
      ]
     },
     "execution_count": 66,
     "metadata": {},
     "output_type": "execute_result"
    }
   ],
   "source": [
    "# H0: There is no significant difference in insurance claims among different age groups\n",
    "# Ha: There is significant difference in insurance claims among different age groups\n",
    "# CI: 99%, p: 0.01\n",
    "\n",
    "# perform the test\n",
    "stats.f_oneway( s1, s2)\n"
   ]
  },
  {
   "cell_type": "code",
   "execution_count": 67,
   "id": "80e8ae61",
   "metadata": {},
   "outputs": [],
   "source": [
    "#Conclusion: Since the p value for H0 becoimg true is more Therefore\n",
    "# we fail to reject H0 and claims that there is no significant difference in insurance claims among different age groups"
   ]
  },
  {
   "cell_type": "markdown",
   "id": "809fc11c",
   "metadata": {},
   "source": [
    "#\n",
    "found if there any relationship between total number of policy claims and the\n",
    "claimed amount?"
   ]
  },
  {
   "cell_type": "code",
   "execution_count": 68,
   "id": "1aeea35a",
   "metadata": {},
   "outputs": [],
   "source": [
    "x=cc['total_policy_claims']"
   ]
  },
  {
   "cell_type": "code",
   "execution_count": 69,
   "id": "ea72ee67",
   "metadata": {},
   "outputs": [],
   "source": [
    "y= cc['claim_amount']"
   ]
  },
  {
   "cell_type": "code",
   "execution_count": 70,
   "id": "e8e26e40",
   "metadata": {},
   "outputs": [
    {
     "data": {
      "image/png": "[encoded data removed]",
      "text/plain": [
       "<Figure size 640x480 with 1 Axes>"
      ]
     },
     "metadata": {},
     "output_type": "display_data"
    }
   ],
   "source": [
    "plt.scatter(x,y)\n",
    "plt.show()"
   ]
  },
  {
   "cell_type": "code",
   "execution_count": 71,
   "id": "ffaec807",
   "metadata": {},
   "outputs": [
    {
     "name": "stdout",
     "output_type": "stream",
     "text": [
      " There is NO any relationship between total number of policy claims and the claimed amount\n"
     ]
    }
   ],
   "source": [
    "print(\" There is NO any relationship between total number of policy claims and the claimed amount\")"
   ]
  },
  {
   "cell_type": "code",
   "execution_count": null,
   "id": "252f7d3d",
   "metadata": {},
   "outputs": [],
   "source": []
  }
 ],
 "metadata": {
  "kernelspec": {
   "display_name": "Python 3 (ipykernel)",
   "language": "python",
   "name": "python3"
  },
  "language_info": {
   "codemirror_mode": {
    "name": "ipython",
    "version": 3
   },
   "file_extension": ".py",
   "mimetype": "text/x-python",
   "name": "python",
   "nbconvert_exporter": "python",
   "pygments_lexer": "ipython3",
   "version": "3.10.9"
  }
 },
 "nbformat": 4,
 "nbformat_minor": 5
}
